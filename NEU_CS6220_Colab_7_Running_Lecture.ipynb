{
  "nbformat": 4,
  "nbformat_minor": 0,
  "metadata": {
    "colab": {
      "provenance": []
    },
    "kernelspec": {
      "name": "python3",
      "display_name": "Python 3"
    },
    "language_info": {
      "name": "python"
    }
  },
  "cells": [
    {
      "cell_type": "markdown",
      "source": [
        "# Lecture 7\n",
        "\n",
        "This week, we'll have a running Colab that we can all try understanding concepts with."
      ],
      "metadata": {
        "id": "f45h6GcvztCm"
      }
    },
    {
      "cell_type": "code",
      "execution_count": null,
      "metadata": {
        "id": "ZWQiPSm3zix-",
        "colab": {
          "base_uri": "https://localhost:8080/"
        },
        "outputId": "0783c0f7-4e7f-42b7-e01d-cd82af7d6326"
      },
      "outputs": [
        {
          "output_type": "stream",
          "name": "stdout",
          "text": [
            "--2023-02-23 03:24:50--  https://course.ccs.neu.edu/cs6220/lecture-labs/lecture-6/bubblegum_training.txt\n",
            "Resolving course.ccs.neu.edu (course.ccs.neu.edu)... 129.10.117.35\n",
            "Connecting to course.ccs.neu.edu (course.ccs.neu.edu)|129.10.117.35|:443... connected.\n",
            "HTTP request sent, awaiting response... 200 OK\n",
            "Length: 1027392 (1003K) [text/plain]\n",
            "Saving to: ‘bubblegum_training.txt’\n",
            "\n",
            "bubblegum_training. 100%[===================>]   1003K  2.57MB/s    in 0.4s    \n",
            "\n",
            "2023-02-23 03:24:51 (2.57 MB/s) - ‘bubblegum_training.txt’ saved [1027392/1027392]\n",
            "\n",
            "--2023-02-23 03:24:51--  https://course.ccs.neu.edu/cs6220/lecture-labs/lecture-6/bubblegum_QC.txt\n",
            "Resolving course.ccs.neu.edu (course.ccs.neu.edu)... 129.10.117.35\n",
            "Connecting to course.ccs.neu.edu (course.ccs.neu.edu)|129.10.117.35|:443... connected.\n",
            "HTTP request sent, awaiting response... 200 OK\n",
            "Length: 1028 (1.0K) [text/plain]\n",
            "Saving to: ‘bubblegum_QC.txt’\n",
            "\n",
            "bubblegum_QC.txt    100%[===================>]   1.00K  --.-KB/s    in 0s      \n",
            "\n",
            "2023-02-23 03:24:51 (25.3 MB/s) - ‘bubblegum_QC.txt’ saved [1028/1028]\n",
            "\n",
            "--2023-02-23 03:24:52--  https://course.ccs.neu.edu/cs6220/lecture-labs/lecture-6/muvec.txt\n",
            "Resolving course.ccs.neu.edu (course.ccs.neu.edu)... 129.10.117.35\n",
            "Connecting to course.ccs.neu.edu (course.ccs.neu.edu)|129.10.117.35|:443... connected.\n",
            "HTTP request sent, awaiting response... 200 OK\n",
            "Length: 250 [text/plain]\n",
            "Saving to: ‘muvec.txt’\n",
            "\n",
            "muvec.txt           100%[===================>]     250  --.-KB/s    in 0s      \n",
            "\n",
            "2023-02-23 03:24:52 (11.2 MB/s) - ‘muvec.txt’ saved [250/250]\n",
            "\n"
          ]
        }
      ],
      "source": [
        "import numpy as np\n",
        "import matplotlib.pylab as plt\n",
        "%matplotlib inline\n",
        "\n",
        "!wget https://course.ccs.neu.edu/cs6220/lecture-labs/lecture-6/bubblegum_training.txt\n",
        "!wget https://course.ccs.neu.edu/cs6220/lecture-labs/lecture-6/bubblegum_QC.txt\n",
        "!wget https://course.ccs.neu.edu/cs6220/lecture-labs/lecture-6/muvec.txt\n"
      ]
    },
    {
      "cell_type": "markdown",
      "source": [
        "# The Data\n",
        "\n",
        "This is data from a factory that manufactures peach bubblegum en masse, DripperLabs. There are ten features that are measured for each sample off the factory floor; these correspond to:\n",
        "\n",
        "* Resin - main chewable part\n",
        "* Wax - gum softener\n",
        "* Elastomer - flexibility\n",
        "* Sweeteners - delays the release of flavour. \n",
        "* Glycerine - maintains moistness. \n",
        "* Softener - soften the gum\n",
        "* Plasticiser -  increases flexibility \n",
        "* Flavours - taste and sensory appeal\n",
        "* Colours - visual appeal. \n",
        "* Polyol Coating - maintain the quality \n",
        "\n",
        "If you'd like to read more, feel free to review [GooRoo's blog post](https://www.gooroo.com/blog/chewing-gum/)\n"
      ],
      "metadata": {
        "id": "6UVHagzQiTMI"
      }
    },
    {
      "cell_type": "code",
      "source": [
        "train_data = np.loadtxt(\"bubblegum_training.txt\",delimiter=\",\")\n",
        "inference_data = np.loadtxt(\"bubblegum_QC.txt\", delimiter=\",\")\n",
        "\n",
        "# To sanity check, load in the known target values\n",
        "mean_data = np.loadtxt(\"muvec.txt\", delimiter=\",\")"
      ],
      "metadata": {
        "id": "LZ63O4woiUZn"
      },
      "execution_count": null,
      "outputs": []
    },
    {
      "cell_type": "markdown",
      "source": [
        "# Calculate the parameters of your Gaussian Model\n",
        "\n",
        "Using the training data, determine the maximum likelihood of the mean and standard deviation for each dimension.\n",
        "\n",
        "Recall that these are:\n",
        "\n",
        "$$\\mu_i = \\sum_{n=1}^N \\frac{x^{(n)}_i}{N}$$\n",
        "\n",
        "and\n",
        "\n",
        "$$\\sigma_i^2 = \\sum_{n=1}^N \\frac{(x^{(n)}_i - \\mu_i) ^2}{N} $$"
      ],
      "metadata": {
        "id": "aPGfp8t-ilTy"
      }
    },
    {
      "cell_type": "code",
      "source": [
        "# YOUR CODE HERE\n",
        "mu = train_data.mean(axis=0)\n",
        "sig = train_data.std(axis=0)"
      ],
      "metadata": {
        "id": "Wtbk1fokip--"
      },
      "execution_count": null,
      "outputs": []
    },
    {
      "cell_type": "markdown",
      "source": [
        "# Probability of a Sample\n",
        "\n",
        "Write a function that takes your parameters and calculates the probabiliy of this sample occurring with the Gaussian Model. If all goes well, you should have the following outliers:\n",
        "\n",
        "`[0, 0, 1, 1, 0, 0, 0, 1, 1, 0, 0, 0, 0, 0, 1]`\n",
        "\n",
        "You may wish to use the log likelihood (i.e., take the log of your PDF)."
      ],
      "metadata": {
        "id": "OD_rblbOitr0"
      }
    },
    {
      "cell_type": "code",
      "source": [
        "# YOUR CODE HERE\n",
        "\n",
        "# Multivariate Way\n",
        "from scipy.stats import multivariate_normal\n",
        "model = multivariate_normal(mean = mu, cov = np.eye(10)*sig**2)\n",
        "\n",
        "# # Univariate Way\n",
        "# from scipy.stats import norm\n",
        "\n",
        "# modelu = dict()\n",
        "# for i in range(10):\n",
        "#   modelu[i] = norm(mu[i], sig[i] )\n",
        "# inferred = 1\n",
        "# for i in range(10):\n",
        "#   inferred *= modelu[i].pdf(inference_data)\n",
        "# inferred <= 0.002# threshold?\n",
        "\n",
        "\n",
        "\n",
        "plt.plot(model.pdf(inference_data))\n",
        "# 取log更useful生成的图。\n",
        "# plt.plot(np.log(model.pdf(inference_data)))\n",
        " "
      ],
      "metadata": {
        "id": "WvBsTl2yiv7u",
        "colab": {
          "base_uri": "https://localhost:8080/",
          "height": 294
        },
        "outputId": "a9a9506d-b26b-42b8-ccf9-74f41b27b590"
      },
      "execution_count": null,
      "outputs": [
        {
          "output_type": "execute_result",
          "data": {
            "text/plain": [
              "[<matplotlib.lines.Line2D at 0x7f9e5f8aed30>]"
            ]
          },
          "metadata": {},
          "execution_count": 26
        },
        {
          "output_type": "display_data",
          "data": {
            "text/plain": [
              "<Figure size 432x288 with 1 Axes>"
            ],
            "image/png": "[encoded data removed]"
          },
          "metadata": {
            "needs_background": "light"
          }
        }
      ]
    },
    {
      "cell_type": "markdown",
      "source": [
        "# Regression and Function Estimation\n",
        "\n",
        "Downloads the data from [here](https://course.ccs.neu.edu/cs6220/lecture-labs/lecture-7/housing_data.txt) and creates some helper functions for the remainder of the lecture."
      ],
      "metadata": {
        "id": "01YlWdPQiXZa"
      }
    },
    {
      "cell_type": "code",
      "source": [
        "#@title Download Univariate Housing Data (RUN ME)\n",
        "\n",
        "!wget https://course.ccs.neu.edu/cs6220/lecture-labs/lecture-7/housing_data.txt\n",
        "housing_data = np.loadtxt(\"housing_data.txt\", delimiter=\",\")\n",
        "\n",
        "x = housing_data[0]\n",
        "y = housing_data[1]\n",
        "\n",
        "plt.suptitle('Housing prices in OR')\n",
        "plt.xlabel('square feet')\n",
        "plt.ylabel('Prices (thousands of $)')\n",
        "plt.scatter(x,y)\n",
        "\n",
        "def plotdata(m, b, x=None, y=None):\n",
        "    \n",
        "    if x is None:\n",
        "        x = np.linspace(500,3000,50) + np.random.randn(50)\n",
        "    if y is None:\n",
        "        y = np.linspace(150,480,50) + 30.0*np.random.randn(50)\n",
        "    \n",
        "    x_ = np.linspace(400,3400,1000)\n",
        "    \n",
        "    plt.scatter(x,y)\n",
        "    plt.suptitle('Housing prices in OR',fontsize=15)\n",
        "    plt.xlabel('square feet',fontsize=15)\n",
        "    plt.ylabel('Prices (thousands of $)',fontsize=15)\n",
        "    plt.plot(x_, fx(m,x_,b), c='r', linewidth=2)"
      ],
      "metadata": {
        "id": "kaBHjCB90BZz",
        "colab": {
          "base_uri": "https://localhost:8080/",
          "height": 504
        },
        "outputId": "198f64d8-98a7-4358-d344-876e5a109f69"
      },
      "execution_count": null,
      "outputs": [
        {
          "output_type": "stream",
          "name": "stdout",
          "text": [
            "--2023-02-23 03:25:22--  https://course.ccs.neu.edu/cs6220/lecture-labs/lecture-7/housing_data.txt\n",
            "Resolving course.ccs.neu.edu (course.ccs.neu.edu)... 129.10.117.35\n",
            "Connecting to course.ccs.neu.edu (course.ccs.neu.edu)|129.10.117.35|:443... connected.\n",
            "HTTP request sent, awaiting response... 200 OK\n",
            "Length: 2500 (2.4K) [text/plain]\n",
            "Saving to: ‘housing_data.txt’\n",
            "\n",
            "housing_data.txt    100%[===================>]   2.44K  --.-KB/s    in 0s      \n",
            "\n",
            "2023-02-23 03:25:22 (105 MB/s) - ‘housing_data.txt’ saved [2500/2500]\n",
            "\n"
          ]
        },
        {
          "output_type": "display_data",
          "data": {
            "text/plain": [
              "<Figure size 432x288 with 1 Axes>"
            ],
            "image/png": "[encoded data removed]"
          },
          "metadata": {
            "needs_background": "light"
          }
        }
      ]
    },
    {
      "cell_type": "markdown",
      "source": [
        "# Forward Prediction Model\n",
        "\n",
        "Write a function $y = f(x)$ that uses parameters $m$ and $b$ to predict the the price of a house $y$ with square footage $x$ alone. You don't need to solve for $m$ and $b$ just yet. That is, provide a function $y = f_{m,b}(x) = mx + b$, the linear regression.\n",
        "\n",
        "```\n",
        "def fx(m, x, b):\n",
        "  return <YOUR-CODE-HERE>\n",
        "```\n",
        "\n",
        "Also write a function for the mean squared error loss function \n",
        "\n",
        "$$L = \\displaystyle\\sum_{n=1}^N (y^{(n)} - (mx^{(n)} + b))^2$$\n",
        "\n",
        "where $n$ denotes the $n^{th}$ instance of the data point tuple $(x^{(n)}, y^{(n)})$, and $m$ and $b$ are parameters.\n",
        "\n",
        "```\n",
        "def mse_loss(x, y, m, b):\n",
        "  return <YOUR-CODE-HERE>\n",
        "```"
      ],
      "metadata": {
        "id": "5c7HDxM5jFS2"
      }
    },
    {
      "cell_type": "code",
      "source": [
        "def fx(m, x, b):\n",
        "  return 0 # YOUR CODE HERE\n",
        "\n",
        "def mse_loss(x, y, m, b):\n",
        "  return 0 # YOUR CODE HERE"
      ],
      "metadata": {
        "id": "kpct5Oungrt-"
      },
      "execution_count": null,
      "outputs": []
    },
    {
      "cell_type": "markdown",
      "source": [
        "# Analytical Solution\n",
        "\n",
        "Find the analytical solution to the maximum likelihood estimate of $m$ and $b$ with the following loss function below:\n",
        "\n",
        "$$ L = \\sum_i (y^{(i)} - (mx^{(i)} + b))^2 $$\n",
        "\n",
        "Here, $(x^{(i)}, y^{(i)})$ is the $i^{th}$ sample in the data. Let's first take the gradient with respect to $m$:\n",
        "\n",
        "$$\\nabla_m L = \\sum_i -2^{(i)} ( y^{(i)} - (mx^{(i)} + b) )$$\n",
        "\n",
        "$$\\nabla_m L = \\text{ ?? <-- your answer here} $$\n",
        "\n",
        "You can analytically solve this by setting $\\nabla_m L = 0$ and $\\nabla_b L = 0$. You will that this is not true of many other functions."
      ],
      "metadata": {
        "id": "z83U2WvhmkT1"
      }
    },
    {
      "cell_type": "code",
      "source": [],
      "metadata": {
        "id": "TM1HfZWMmyS4"
      },
      "execution_count": null,
      "outputs": []
    },
    {
      "cell_type": "markdown",
      "source": [
        "# Optimization Space\n",
        "\n",
        "Plot the optimization space"
      ],
      "metadata": {
        "id": "aMQbocFv_OHq"
      }
    },
    {
      "cell_type": "code",
      "source": [
        "m = np.linspace(-5,10,100)\n",
        "b = np.linspace(-2600,400,100)\n",
        "L = [[  mse_loss(x, y, mi, bi) for mi in m ] for bi in b ]\n",
        "L = np.array(L)\n",
        "\n",
        "# Create the axes\n",
        "from mpl_toolkits.mplot3d import Axes3D\n",
        "fig = plt.figure()\n",
        "ax = Axes3D(fig)\n",
        "\n",
        "M,B=np.meshgrid(m,b)\n",
        "ax.plot_wireframe(M, B, L, rstride=2, cstride=2)\n",
        "\n",
        "\n",
        "ax.set_xlabel('m (slope)')\n",
        "ax.set_ylabel('b (intercept)')\n",
        "ax.set_zlabel('L(x,y,m,b)')"
      ],
      "metadata": {
        "id": "MwPnGnHA_RmS"
      },
      "execution_count": null,
      "outputs": []
    },
    {
      "cell_type": "code",
      "source": [
        "figure, axis = plt.subplots(1,2)\n",
        "\n",
        "\n",
        "L = [ mse_loss(x, y, mi, 0) for mi in m ]\n",
        "axis[0].plot(m, L)\n",
        "axis[0].set_title(\"Loss as a function of slope\")\n",
        "\n",
        "L = [ mse_loss(x, y, 1, bi) for bi in b ]\n",
        "axis[1].plot(b, L)\n",
        "axis[1].set_title(\"Loss as a function of intercept\")"
      ],
      "metadata": {
        "id": "IZ7QPukdchxm"
      },
      "execution_count": null,
      "outputs": []
    },
    {
      "cell_type": "markdown",
      "source": [
        "# Gradient Descent\n",
        "\n",
        "Write functions for gradient of the loss function $L$ with respect to $m$ and $b$. That is, write:\n",
        "\n",
        "* $\\nabla_m L(m,b)$\n",
        "* $\\nabla_b L(m, b)$\n",
        "\n",
        "You should have the equations from your derivation above. (Don't set to zero.)"
      ],
      "metadata": {
        "id": "IpNp_IU7m9W9"
      }
    },
    {
      "cell_type": "code",
      "source": [
        "def deriv_m(x, y, m, b):\n",
        "  return 0\n",
        "\n",
        "def deriv_b(x, y, m, b):\n",
        "  return 0\n"
      ],
      "metadata": {
        "id": "ajS0mXOuEEQj"
      },
      "execution_count": null,
      "outputs": []
    },
    {
      "cell_type": "code",
      "source": [
        "from IPython import display\n",
        "import time\n",
        "\n",
        "# Randomly initialize\n",
        "m = np.random.randn(1) / 2.0\n",
        "b = np.float32( np.random.randint(-100, 100 ) )\n",
        "print (m, b)\n",
        "\n",
        "batchsize = 20 \n",
        "N = x.shape[0]\n",
        "\n",
        "mrate = 5e-9\n",
        "brate = 1e-4\n",
        "iterations = 50\n",
        "\n",
        "objective = np.zeros( iterations )\n",
        "for i in range(0, iterations):\n",
        "    \n",
        "    randombatch = np.random.randint(0, N, batchsize)\n",
        "\n",
        "    # Choose a random batch to optimize with\n",
        "    xb = x[ randombatch ]\n",
        "    yb = y[ randombatch ]\n",
        "\n",
        "    # Calculate the gradient\n",
        "    m_update = mrate * deriv_m(xb, yb, m, b) \n",
        "    b_update = brate * deriv_b(xb, yb, m, b) \n",
        "\n",
        "    # Take a step in the direction of the gradient\n",
        "    m = m - m_update\n",
        "    b = b - b_update\n",
        "   \n",
        "    # Calculate the loss function\n",
        "    objective[i] = mse_loss(x, y, m, b)\n",
        "\n",
        "    plt.clf()\n",
        "    plotdata( m, b, x, y )\n",
        "    plt.scatter(xb,yb,c='m')\n",
        "    print(\"(dm=%f,db=%f),(m,b)=(%f,%f),L=%f\"%(m_update,b_update,m,b,objective[i]))\n",
        " \n",
        "    \n",
        "    # ch = raw_input()\n",
        "    display.clear_output(wait=True)\n",
        "    display.display(plt.gcf())\n",
        "    \n",
        "    time.sleep(1.0)\n",
        "    "
      ],
      "metadata": {
        "id": "-4eT8RTBnqll"
      },
      "execution_count": null,
      "outputs": []
    },
    {
      "cell_type": "markdown",
      "source": [
        "What's the predicted price based on a parameterized linear regression solved through maximum likelihood of a house at 1750 square feet?"
      ],
      "metadata": {
        "id": "wb4WibYhoG5z"
      }
    },
    {
      "cell_type": "code",
      "source": [
        "fx(1750, m, b)"
      ],
      "metadata": {
        "id": "Qi-QD0ujoN5p"
      },
      "execution_count": null,
      "outputs": []
    },
    {
      "cell_type": "markdown",
      "source": [
        "# The Sigmoid Function\n",
        "\n",
        "Implement \n",
        "\n",
        "$$\\sigma(x) = \\frac{1}{1 + e^{- x }}$$"
      ],
      "metadata": {
        "id": "M79b-HFHfk_U"
      }
    },
    {
      "cell_type": "code",
      "source": [
        "def sigmoid(x):\n",
        "  return x # YOUR CODE HERE"
      ],
      "metadata": {
        "id": "bkeXEDTVfjPk"
      },
      "execution_count": null,
      "outputs": []
    },
    {
      "cell_type": "markdown",
      "source": [
        "Play around with the sigmoid function. Instead of using $x$, try $mx + b$. What happens if you change $b$? How about $m$?"
      ],
      "metadata": {
        "id": "jcqh6U8dgHd6"
      }
    },
    {
      "cell_type": "code",
      "source": [
        "x = np.linspace(-20, 20, 1000)\n",
        "plt.plot( x, sigmoid(x) )"
      ],
      "metadata": {
        "id": "Gzk2rTD8gTlY"
      },
      "execution_count": null,
      "outputs": []
    }
  ]
}